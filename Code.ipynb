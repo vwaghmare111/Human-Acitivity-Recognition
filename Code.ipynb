{
 "cells": [
  {
   "cell_type": "markdown",
   "metadata": {},
   "source": [
    "# Part 1: Understanding the data\n",
    "1)\tObjective of the data collection process\n",
    "Objective of the data collected for this experiment was Human Activity Recognition (HAR) which aims to identify the physical actions carried out by a person by sensing human body motion using smartphone’s (Galaxy S II smartphone) sensors (accelerometer and gyroscope).\n",
    "\n",
    "2)\tThere were 30 subjects (individuals) within age bracket of 19-48 years who performed Activities of Daily Living (ADL) with a waist-mounted smartphone embedded with inertial sensors in laboratory set-up. They were asked to perform 6 types of activities;\n",
    "a)\tWalking\n",
    "b)\tWalking upstairs\n",
    "c)\tWalking downstairs\n",
    "d)\tSitting\n",
    "e)\tStanding\n",
    "f)\tLaying\n",
    "\n",
    "3)\tThere are 7,352 instances (71.39%) in training dataset and 2,947 instances (28.61%) in test dataset. Each dataset has 561 features.\n",
    "Features are data of triaxial (XYZ) signal collected from accelerometer and gyroscope which are prefixed by “t” representing time domain signals and “f” representing filtered signals using median filter. Acceleration signal is further separated in to body and gravity signals. Body linear and angular velocity were derived to obtain jerk signals and magnitude of these variables were calculated using Euclidean norm. After Fast Fourier Transformation (FFT) of few signals mean of these signals obtained in a single window were added.\n",
    "Data contains normalized statistical measures of these signals; mean, correlation, median, IQR, correlation, max, min, standard deviation, average sum of squares, skewness, kurtosis etc.\n",
    "\n",
    "4)\tSupport Vector Machine multiclass classifier One-Vs-All (OVA) with 10-fold cross validation and Gaussian kernels were used for activity recognition. Overall accuracy (hit ratio) of the model was 96% with “sitting” activity having lowest Recall (TPR) of 88%.\n"
   ]
  },
  {
   "cell_type": "code",
   "execution_count": 1,
   "metadata": {},
   "outputs": [],
   "source": [
    "import numpy as np\n",
    "import pandas as pd\n",
    "import matplotlib.pyplot as plt\n",
    "from sklearn.neighbors import KNeighborsClassifier\n",
    "from sklearn import metrics\n",
    "from sklearn import model_selection\n",
    "from sklearn.linear_model import SGDClassifier\n",
    "from mpl_toolkits.mplot3d import Axes3D\n",
    "from sklearn import svm\n",
    "from sklearn.ensemble import RandomForestClassifier\n",
    "from sklearn.metrics import make_scorer\n",
    "from sklearn.metrics import recall_score\n",
    "\n",
    "from warnings import simplefilter\n",
    "# ignore all future warnings\n",
    "simplefilter(action='ignore', category=FutureWarning)"
   ]
  },
  {
   "cell_type": "code",
   "execution_count": 3,
   "metadata": {},
   "outputs": [],
   "source": [
    "##Importing datasets##\n",
    "X_train = pd.read_fwf('X_train.txt', header = None)\n",
    "y_train = pd.read_fwf('y_train.txt', header = None)\n",
    "X_test = pd.read_fwf('X_test.txt', header = None)\n",
    "y_test = pd.read_fwf('y_test.txt', header = None)\n",
    "\n",
    "#Importing headers##\n",
    "header_X = open('features.txt').read().split()[1::2]\n",
    "header_y = 'Labels'"
   ]
  },
  {
   "cell_type": "code",
   "execution_count": 4,
   "metadata": {},
   "outputs": [
    {
     "name": "stdout",
     "output_type": "stream",
     "text": [
      "Training Data has 7352 instances and 561 features\n",
      "Testing Data has 2947 instances and 561 features\n",
      "Training Labels has 7352 instances and 1 feature\n",
      "Testing Labels has 2947 instances and 1 feature\n"
     ]
    }
   ],
   "source": [
    "X_train.columns = [header_X]\n",
    "X_test.columns = [header_X]\n",
    "y_train.column = 'Labels'\n",
    "y_test.column = 'Labels'\n",
    "print('Training Data has {} instances and {} features'.format(X_train.shape[0], X_test.shape[1]))\n",
    "print('Testing Data has {} instances and {} features'.format(X_test.shape[0], X_test.shape[1]))\n",
    "print('Training Labels has {} instances and {} feature'.format(y_train.shape[0], y_train.shape[1]))\n",
    "print('Testing Labels has {} instances and {} feature'.format(y_test.shape[0], y_test.shape[1]))"
   ]
  },
  {
   "cell_type": "code",
   "execution_count": 53,
   "metadata": {},
   "outputs": [
    {
     "name": "stdout",
     "output_type": "stream",
     "text": [
      "Features with empty cells in training data = []\n",
      "Features with empty cells in testing data = []\n",
      "Labels with empty cells in training data = []\n",
      "Labels with empty cells in testing data = []\n"
     ]
    }
   ],
   "source": [
    "##Checking blank cells##\n",
    "print('Features with empty cells in training data =',X_train.columns[X_train.isna().any()].tolist())\n",
    "print('Features with empty cells in testing data =',X_test.columns[X_test.isna().any()].tolist())\n",
    "print('Labels with empty cells in training data =',y_train.columns[y_train.isna().any()].tolist())\n",
    "print('Labels with empty cells in testing data =',y_test.columns[y_test.isna().any()].tolist())"
   ]
  },
  {
   "cell_type": "code",
   "execution_count": 54,
   "metadata": {},
   "outputs": [
    {
     "data": {
      "text/html": [
       "<div>\n",
       "<style scoped>\n",
       "    .dataframe tbody tr th:only-of-type {\n",
       "        vertical-align: middle;\n",
       "    }\n",
       "\n",
       "    .dataframe tbody tr th {\n",
       "        vertical-align: top;\n",
       "    }\n",
       "\n",
       "    .dataframe thead tr th {\n",
       "        text-align: left;\n",
       "    }\n",
       "</style>\n",
       "<table border=\"1\" class=\"dataframe\">\n",
       "  <thead>\n",
       "    <tr>\n",
       "      <th></th>\n",
       "      <th>tBodyAcc-mean()-X</th>\n",
       "      <th>tBodyAcc-mean()-Y</th>\n",
       "      <th>tBodyAcc-mean()-Z</th>\n",
       "      <th>tBodyAcc-std()-X</th>\n",
       "      <th>tBodyAcc-std()-Y</th>\n",
       "      <th>tBodyAcc-std()-Z</th>\n",
       "      <th>tBodyAcc-mad()-X</th>\n",
       "      <th>tBodyAcc-mad()-Y</th>\n",
       "      <th>tBodyAcc-mad()-Z</th>\n",
       "      <th>tBodyAcc-max()-X</th>\n",
       "      <th>...</th>\n",
       "      <th>fBodyBodyGyroJerkMag-meanFreq()</th>\n",
       "      <th>fBodyBodyGyroJerkMag-skewness()</th>\n",
       "      <th>fBodyBodyGyroJerkMag-kurtosis()</th>\n",
       "      <th>angle(tBodyAccMean,gravity)</th>\n",
       "      <th>angle(tBodyAccJerkMean),gravityMean)</th>\n",
       "      <th>angle(tBodyGyroMean,gravityMean)</th>\n",
       "      <th>angle(tBodyGyroJerkMean,gravityMean)</th>\n",
       "      <th>angle(X,gravityMean)</th>\n",
       "      <th>angle(Y,gravityMean)</th>\n",
       "      <th>angle(Z,gravityMean)</th>\n",
       "    </tr>\n",
       "  </thead>\n",
       "  <tbody>\n",
       "    <tr>\n",
       "      <th>0</th>\n",
       "      <td>0.288585</td>\n",
       "      <td>-0.020294</td>\n",
       "      <td>-0.132905</td>\n",
       "      <td>-0.995279</td>\n",
       "      <td>-0.983111</td>\n",
       "      <td>-0.913526</td>\n",
       "      <td>-0.995112</td>\n",
       "      <td>-0.983185</td>\n",
       "      <td>-0.923527</td>\n",
       "      <td>-0.934724</td>\n",
       "      <td>...</td>\n",
       "      <td>-0.074323</td>\n",
       "      <td>-0.298676</td>\n",
       "      <td>-0.710304</td>\n",
       "      <td>-0.112754</td>\n",
       "      <td>0.030400</td>\n",
       "      <td>-0.464761</td>\n",
       "      <td>-0.018446</td>\n",
       "      <td>-0.841247</td>\n",
       "      <td>0.179941</td>\n",
       "      <td>-0.058627</td>\n",
       "    </tr>\n",
       "    <tr>\n",
       "      <th>1</th>\n",
       "      <td>0.278419</td>\n",
       "      <td>-0.016411</td>\n",
       "      <td>-0.123520</td>\n",
       "      <td>-0.998245</td>\n",
       "      <td>-0.975300</td>\n",
       "      <td>-0.960322</td>\n",
       "      <td>-0.998807</td>\n",
       "      <td>-0.974914</td>\n",
       "      <td>-0.957686</td>\n",
       "      <td>-0.943068</td>\n",
       "      <td>...</td>\n",
       "      <td>0.158075</td>\n",
       "      <td>-0.595051</td>\n",
       "      <td>-0.861499</td>\n",
       "      <td>0.053477</td>\n",
       "      <td>-0.007435</td>\n",
       "      <td>-0.732626</td>\n",
       "      <td>0.703511</td>\n",
       "      <td>-0.844788</td>\n",
       "      <td>0.180289</td>\n",
       "      <td>-0.054317</td>\n",
       "    </tr>\n",
       "    <tr>\n",
       "      <th>2</th>\n",
       "      <td>0.279653</td>\n",
       "      <td>-0.019467</td>\n",
       "      <td>-0.113462</td>\n",
       "      <td>-0.995380</td>\n",
       "      <td>-0.967187</td>\n",
       "      <td>-0.978944</td>\n",
       "      <td>-0.996520</td>\n",
       "      <td>-0.963668</td>\n",
       "      <td>-0.977469</td>\n",
       "      <td>-0.938692</td>\n",
       "      <td>...</td>\n",
       "      <td>0.414503</td>\n",
       "      <td>-0.390748</td>\n",
       "      <td>-0.760104</td>\n",
       "      <td>-0.118559</td>\n",
       "      <td>0.177899</td>\n",
       "      <td>0.100699</td>\n",
       "      <td>0.808529</td>\n",
       "      <td>-0.848933</td>\n",
       "      <td>0.180637</td>\n",
       "      <td>-0.049118</td>\n",
       "    </tr>\n",
       "    <tr>\n",
       "      <th>3</th>\n",
       "      <td>0.279174</td>\n",
       "      <td>-0.026201</td>\n",
       "      <td>-0.123283</td>\n",
       "      <td>-0.996091</td>\n",
       "      <td>-0.983403</td>\n",
       "      <td>-0.990675</td>\n",
       "      <td>-0.997099</td>\n",
       "      <td>-0.982750</td>\n",
       "      <td>-0.989302</td>\n",
       "      <td>-0.938692</td>\n",
       "      <td>...</td>\n",
       "      <td>0.404573</td>\n",
       "      <td>-0.117290</td>\n",
       "      <td>-0.482845</td>\n",
       "      <td>-0.036788</td>\n",
       "      <td>-0.012892</td>\n",
       "      <td>0.640011</td>\n",
       "      <td>-0.485366</td>\n",
       "      <td>-0.848649</td>\n",
       "      <td>0.181935</td>\n",
       "      <td>-0.047663</td>\n",
       "    </tr>\n",
       "    <tr>\n",
       "      <th>4</th>\n",
       "      <td>0.276629</td>\n",
       "      <td>-0.016570</td>\n",
       "      <td>-0.115362</td>\n",
       "      <td>-0.998139</td>\n",
       "      <td>-0.980817</td>\n",
       "      <td>-0.990482</td>\n",
       "      <td>-0.998321</td>\n",
       "      <td>-0.979672</td>\n",
       "      <td>-0.990441</td>\n",
       "      <td>-0.942469</td>\n",
       "      <td>...</td>\n",
       "      <td>0.087753</td>\n",
       "      <td>-0.351471</td>\n",
       "      <td>-0.699205</td>\n",
       "      <td>0.123320</td>\n",
       "      <td>0.122542</td>\n",
       "      <td>0.693578</td>\n",
       "      <td>-0.615971</td>\n",
       "      <td>-0.847865</td>\n",
       "      <td>0.185151</td>\n",
       "      <td>-0.043892</td>\n",
       "    </tr>\n",
       "  </tbody>\n",
       "</table>\n",
       "<p>5 rows × 561 columns</p>\n",
       "</div>"
      ],
      "text/plain": [
       "  tBodyAcc-mean()-X tBodyAcc-mean()-Y tBodyAcc-mean()-Z tBodyAcc-std()-X  \\\n",
       "0          0.288585         -0.020294         -0.132905        -0.995279   \n",
       "1          0.278419         -0.016411         -0.123520        -0.998245   \n",
       "2          0.279653         -0.019467         -0.113462        -0.995380   \n",
       "3          0.279174         -0.026201         -0.123283        -0.996091   \n",
       "4          0.276629         -0.016570         -0.115362        -0.998139   \n",
       "\n",
       "  tBodyAcc-std()-Y tBodyAcc-std()-Z tBodyAcc-mad()-X tBodyAcc-mad()-Y  \\\n",
       "0        -0.983111        -0.913526        -0.995112        -0.983185   \n",
       "1        -0.975300        -0.960322        -0.998807        -0.974914   \n",
       "2        -0.967187        -0.978944        -0.996520        -0.963668   \n",
       "3        -0.983403        -0.990675        -0.997099        -0.982750   \n",
       "4        -0.980817        -0.990482        -0.998321        -0.979672   \n",
       "\n",
       "  tBodyAcc-mad()-Z tBodyAcc-max()-X  ... fBodyBodyGyroJerkMag-meanFreq()  \\\n",
       "0        -0.923527        -0.934724  ...                       -0.074323   \n",
       "1        -0.957686        -0.943068  ...                        0.158075   \n",
       "2        -0.977469        -0.938692  ...                        0.414503   \n",
       "3        -0.989302        -0.938692  ...                        0.404573   \n",
       "4        -0.990441        -0.942469  ...                        0.087753   \n",
       "\n",
       "  fBodyBodyGyroJerkMag-skewness() fBodyBodyGyroJerkMag-kurtosis()  \\\n",
       "0                       -0.298676                       -0.710304   \n",
       "1                       -0.595051                       -0.861499   \n",
       "2                       -0.390748                       -0.760104   \n",
       "3                       -0.117290                       -0.482845   \n",
       "4                       -0.351471                       -0.699205   \n",
       "\n",
       "  angle(tBodyAccMean,gravity) angle(tBodyAccJerkMean),gravityMean)  \\\n",
       "0                   -0.112754                             0.030400   \n",
       "1                    0.053477                            -0.007435   \n",
       "2                   -0.118559                             0.177899   \n",
       "3                   -0.036788                            -0.012892   \n",
       "4                    0.123320                             0.122542   \n",
       "\n",
       "  angle(tBodyGyroMean,gravityMean) angle(tBodyGyroJerkMean,gravityMean)  \\\n",
       "0                        -0.464761                            -0.018446   \n",
       "1                        -0.732626                             0.703511   \n",
       "2                         0.100699                             0.808529   \n",
       "3                         0.640011                            -0.485366   \n",
       "4                         0.693578                            -0.615971   \n",
       "\n",
       "  angle(X,gravityMean) angle(Y,gravityMean) angle(Z,gravityMean)  \n",
       "0            -0.841247             0.179941            -0.058627  \n",
       "1            -0.844788             0.180289            -0.054317  \n",
       "2            -0.848933             0.180637            -0.049118  \n",
       "3            -0.848649             0.181935            -0.047663  \n",
       "4            -0.847865             0.185151            -0.043892  \n",
       "\n",
       "[5 rows x 561 columns]"
      ]
     },
     "execution_count": 54,
     "metadata": {},
     "output_type": "execute_result"
    }
   ],
   "source": [
    "##View of top 5 observations##\n",
    "X_train.head()"
   ]
  },
  {
   "cell_type": "code",
   "execution_count": 82,
   "metadata": {},
   "outputs": [
    {
     "data": {
      "text/html": [
       "<div>\n",
       "<style scoped>\n",
       "    .dataframe tbody tr th:only-of-type {\n",
       "        vertical-align: middle;\n",
       "    }\n",
       "\n",
       "    .dataframe tbody tr th {\n",
       "        vertical-align: top;\n",
       "    }\n",
       "\n",
       "    .dataframe thead th {\n",
       "        text-align: right;\n",
       "    }\n",
       "</style>\n",
       "<table border=\"1\" class=\"dataframe\">\n",
       "  <thead>\n",
       "    <tr style=\"text-align: right;\">\n",
       "      <th></th>\n",
       "      <th>0</th>\n",
       "    </tr>\n",
       "  </thead>\n",
       "  <tbody>\n",
       "    <tr>\n",
       "      <th>0</th>\n",
       "      <td>5</td>\n",
       "    </tr>\n",
       "    <tr>\n",
       "      <th>1</th>\n",
       "      <td>5</td>\n",
       "    </tr>\n",
       "    <tr>\n",
       "      <th>2</th>\n",
       "      <td>5</td>\n",
       "    </tr>\n",
       "    <tr>\n",
       "      <th>3</th>\n",
       "      <td>5</td>\n",
       "    </tr>\n",
       "    <tr>\n",
       "      <th>4</th>\n",
       "      <td>5</td>\n",
       "    </tr>\n",
       "  </tbody>\n",
       "</table>\n",
       "</div>"
      ],
      "text/plain": [
       "   0\n",
       "0  5\n",
       "1  5\n",
       "2  5\n",
       "3  5\n",
       "4  5"
      ]
     },
     "execution_count": 82,
     "metadata": {},
     "output_type": "execute_result"
    }
   ],
   "source": [
    "##View of top 5 observations##\n",
    "y_train.head()"
   ]
  },
  {
   "cell_type": "code",
   "execution_count": 56,
   "metadata": {},
   "outputs": [
    {
     "data": {
      "text/html": [
       "<div>\n",
       "<style scoped>\n",
       "    .dataframe tbody tr th:only-of-type {\n",
       "        vertical-align: middle;\n",
       "    }\n",
       "\n",
       "    .dataframe tbody tr th {\n",
       "        vertical-align: top;\n",
       "    }\n",
       "\n",
       "    .dataframe thead tr th {\n",
       "        text-align: left;\n",
       "    }\n",
       "</style>\n",
       "<table border=\"1\" class=\"dataframe\">\n",
       "  <thead>\n",
       "    <tr>\n",
       "      <th></th>\n",
       "      <th>tBodyAcc-mean()-X</th>\n",
       "      <th>tBodyAcc-mean()-Y</th>\n",
       "      <th>tBodyAcc-mean()-Z</th>\n",
       "      <th>tBodyAcc-std()-X</th>\n",
       "      <th>tBodyAcc-std()-Y</th>\n",
       "      <th>tBodyAcc-std()-Z</th>\n",
       "      <th>tBodyAcc-mad()-X</th>\n",
       "      <th>tBodyAcc-mad()-Y</th>\n",
       "      <th>tBodyAcc-mad()-Z</th>\n",
       "      <th>tBodyAcc-max()-X</th>\n",
       "      <th>...</th>\n",
       "      <th>fBodyBodyGyroJerkMag-meanFreq()</th>\n",
       "      <th>fBodyBodyGyroJerkMag-skewness()</th>\n",
       "      <th>fBodyBodyGyroJerkMag-kurtosis()</th>\n",
       "      <th>angle(tBodyAccMean,gravity)</th>\n",
       "      <th>angle(tBodyAccJerkMean),gravityMean)</th>\n",
       "      <th>angle(tBodyGyroMean,gravityMean)</th>\n",
       "      <th>angle(tBodyGyroJerkMean,gravityMean)</th>\n",
       "      <th>angle(X,gravityMean)</th>\n",
       "      <th>angle(Y,gravityMean)</th>\n",
       "      <th>angle(Z,gravityMean)</th>\n",
       "    </tr>\n",
       "  </thead>\n",
       "  <tbody>\n",
       "    <tr>\n",
       "      <th>0</th>\n",
       "      <td>0.257178</td>\n",
       "      <td>-0.023285</td>\n",
       "      <td>-0.014654</td>\n",
       "      <td>-0.938404</td>\n",
       "      <td>-0.920091</td>\n",
       "      <td>-0.667683</td>\n",
       "      <td>-0.952501</td>\n",
       "      <td>-0.925249</td>\n",
       "      <td>-0.674302</td>\n",
       "      <td>-0.894088</td>\n",
       "      <td>...</td>\n",
       "      <td>0.071645</td>\n",
       "      <td>-0.330370</td>\n",
       "      <td>-0.705974</td>\n",
       "      <td>0.006462</td>\n",
       "      <td>0.162920</td>\n",
       "      <td>-0.825886</td>\n",
       "      <td>0.271151</td>\n",
       "      <td>-0.720009</td>\n",
       "      <td>0.276801</td>\n",
       "      <td>-0.057978</td>\n",
       "    </tr>\n",
       "    <tr>\n",
       "      <th>1</th>\n",
       "      <td>0.286027</td>\n",
       "      <td>-0.013163</td>\n",
       "      <td>-0.119083</td>\n",
       "      <td>-0.975415</td>\n",
       "      <td>-0.967458</td>\n",
       "      <td>-0.944958</td>\n",
       "      <td>-0.986799</td>\n",
       "      <td>-0.968401</td>\n",
       "      <td>-0.945823</td>\n",
       "      <td>-0.894088</td>\n",
       "      <td>...</td>\n",
       "      <td>-0.401189</td>\n",
       "      <td>-0.121845</td>\n",
       "      <td>-0.594944</td>\n",
       "      <td>-0.083495</td>\n",
       "      <td>0.017500</td>\n",
       "      <td>-0.434375</td>\n",
       "      <td>0.920593</td>\n",
       "      <td>-0.698091</td>\n",
       "      <td>0.281343</td>\n",
       "      <td>-0.083898</td>\n",
       "    </tr>\n",
       "    <tr>\n",
       "      <th>2</th>\n",
       "      <td>0.275485</td>\n",
       "      <td>-0.026050</td>\n",
       "      <td>-0.118152</td>\n",
       "      <td>-0.993819</td>\n",
       "      <td>-0.969926</td>\n",
       "      <td>-0.962748</td>\n",
       "      <td>-0.994403</td>\n",
       "      <td>-0.970735</td>\n",
       "      <td>-0.963483</td>\n",
       "      <td>-0.939260</td>\n",
       "      <td>...</td>\n",
       "      <td>0.062891</td>\n",
       "      <td>-0.190422</td>\n",
       "      <td>-0.640736</td>\n",
       "      <td>-0.034956</td>\n",
       "      <td>0.202302</td>\n",
       "      <td>0.064103</td>\n",
       "      <td>0.145068</td>\n",
       "      <td>-0.702771</td>\n",
       "      <td>0.280083</td>\n",
       "      <td>-0.079346</td>\n",
       "    </tr>\n",
       "    <tr>\n",
       "      <th>3</th>\n",
       "      <td>0.270298</td>\n",
       "      <td>-0.032614</td>\n",
       "      <td>-0.117520</td>\n",
       "      <td>-0.994743</td>\n",
       "      <td>-0.973268</td>\n",
       "      <td>-0.967091</td>\n",
       "      <td>-0.995274</td>\n",
       "      <td>-0.974471</td>\n",
       "      <td>-0.968897</td>\n",
       "      <td>-0.938610</td>\n",
       "      <td>...</td>\n",
       "      <td>0.116695</td>\n",
       "      <td>-0.344418</td>\n",
       "      <td>-0.736124</td>\n",
       "      <td>-0.017067</td>\n",
       "      <td>0.154438</td>\n",
       "      <td>0.340134</td>\n",
       "      <td>0.296407</td>\n",
       "      <td>-0.698954</td>\n",
       "      <td>0.284114</td>\n",
       "      <td>-0.077108</td>\n",
       "    </tr>\n",
       "    <tr>\n",
       "      <th>4</th>\n",
       "      <td>0.274833</td>\n",
       "      <td>-0.027848</td>\n",
       "      <td>-0.129527</td>\n",
       "      <td>-0.993852</td>\n",
       "      <td>-0.967445</td>\n",
       "      <td>-0.978295</td>\n",
       "      <td>-0.994111</td>\n",
       "      <td>-0.965953</td>\n",
       "      <td>-0.977346</td>\n",
       "      <td>-0.938610</td>\n",
       "      <td>...</td>\n",
       "      <td>-0.121711</td>\n",
       "      <td>-0.534685</td>\n",
       "      <td>-0.846595</td>\n",
       "      <td>-0.002223</td>\n",
       "      <td>-0.040046</td>\n",
       "      <td>0.736715</td>\n",
       "      <td>-0.118545</td>\n",
       "      <td>-0.692245</td>\n",
       "      <td>0.290722</td>\n",
       "      <td>-0.073857</td>\n",
       "    </tr>\n",
       "  </tbody>\n",
       "</table>\n",
       "<p>5 rows × 561 columns</p>\n",
       "</div>"
      ],
      "text/plain": [
       "  tBodyAcc-mean()-X tBodyAcc-mean()-Y tBodyAcc-mean()-Z tBodyAcc-std()-X  \\\n",
       "0          0.257178         -0.023285         -0.014654        -0.938404   \n",
       "1          0.286027         -0.013163         -0.119083        -0.975415   \n",
       "2          0.275485         -0.026050         -0.118152        -0.993819   \n",
       "3          0.270298         -0.032614         -0.117520        -0.994743   \n",
       "4          0.274833         -0.027848         -0.129527        -0.993852   \n",
       "\n",
       "  tBodyAcc-std()-Y tBodyAcc-std()-Z tBodyAcc-mad()-X tBodyAcc-mad()-Y  \\\n",
       "0        -0.920091        -0.667683        -0.952501        -0.925249   \n",
       "1        -0.967458        -0.944958        -0.986799        -0.968401   \n",
       "2        -0.969926        -0.962748        -0.994403        -0.970735   \n",
       "3        -0.973268        -0.967091        -0.995274        -0.974471   \n",
       "4        -0.967445        -0.978295        -0.994111        -0.965953   \n",
       "\n",
       "  tBodyAcc-mad()-Z tBodyAcc-max()-X  ... fBodyBodyGyroJerkMag-meanFreq()  \\\n",
       "0        -0.674302        -0.894088  ...                        0.071645   \n",
       "1        -0.945823        -0.894088  ...                       -0.401189   \n",
       "2        -0.963483        -0.939260  ...                        0.062891   \n",
       "3        -0.968897        -0.938610  ...                        0.116695   \n",
       "4        -0.977346        -0.938610  ...                       -0.121711   \n",
       "\n",
       "  fBodyBodyGyroJerkMag-skewness() fBodyBodyGyroJerkMag-kurtosis()  \\\n",
       "0                       -0.330370                       -0.705974   \n",
       "1                       -0.121845                       -0.594944   \n",
       "2                       -0.190422                       -0.640736   \n",
       "3                       -0.344418                       -0.736124   \n",
       "4                       -0.534685                       -0.846595   \n",
       "\n",
       "  angle(tBodyAccMean,gravity) angle(tBodyAccJerkMean),gravityMean)  \\\n",
       "0                    0.006462                             0.162920   \n",
       "1                   -0.083495                             0.017500   \n",
       "2                   -0.034956                             0.202302   \n",
       "3                   -0.017067                             0.154438   \n",
       "4                   -0.002223                            -0.040046   \n",
       "\n",
       "  angle(tBodyGyroMean,gravityMean) angle(tBodyGyroJerkMean,gravityMean)  \\\n",
       "0                        -0.825886                             0.271151   \n",
       "1                        -0.434375                             0.920593   \n",
       "2                         0.064103                             0.145068   \n",
       "3                         0.340134                             0.296407   \n",
       "4                         0.736715                            -0.118545   \n",
       "\n",
       "  angle(X,gravityMean) angle(Y,gravityMean) angle(Z,gravityMean)  \n",
       "0            -0.720009             0.276801            -0.057978  \n",
       "1            -0.698091             0.281343            -0.083898  \n",
       "2            -0.702771             0.280083            -0.079346  \n",
       "3            -0.698954             0.284114            -0.077108  \n",
       "4            -0.692245             0.290722            -0.073857  \n",
       "\n",
       "[5 rows x 561 columns]"
      ]
     },
     "execution_count": 56,
     "metadata": {},
     "output_type": "execute_result"
    }
   ],
   "source": [
    "##View of top 5 observations##\n",
    "X_test.head()"
   ]
  },
  {
   "cell_type": "code",
   "execution_count": 57,
   "metadata": {},
   "outputs": [
    {
     "data": {
      "text/html": [
       "<div>\n",
       "<style scoped>\n",
       "    .dataframe tbody tr th:only-of-type {\n",
       "        vertical-align: middle;\n",
       "    }\n",
       "\n",
       "    .dataframe tbody tr th {\n",
       "        vertical-align: top;\n",
       "    }\n",
       "\n",
       "    .dataframe thead th {\n",
       "        text-align: right;\n",
       "    }\n",
       "</style>\n",
       "<table border=\"1\" class=\"dataframe\">\n",
       "  <thead>\n",
       "    <tr style=\"text-align: right;\">\n",
       "      <th></th>\n",
       "      <th>0</th>\n",
       "    </tr>\n",
       "  </thead>\n",
       "  <tbody>\n",
       "    <tr>\n",
       "      <th>0</th>\n",
       "      <td>5</td>\n",
       "    </tr>\n",
       "    <tr>\n",
       "      <th>1</th>\n",
       "      <td>5</td>\n",
       "    </tr>\n",
       "    <tr>\n",
       "      <th>2</th>\n",
       "      <td>5</td>\n",
       "    </tr>\n",
       "    <tr>\n",
       "      <th>3</th>\n",
       "      <td>5</td>\n",
       "    </tr>\n",
       "    <tr>\n",
       "      <th>4</th>\n",
       "      <td>5</td>\n",
       "    </tr>\n",
       "  </tbody>\n",
       "</table>\n",
       "</div>"
      ],
      "text/plain": [
       "   0\n",
       "0  5\n",
       "1  5\n",
       "2  5\n",
       "3  5\n",
       "4  5"
      ]
     },
     "execution_count": 57,
     "metadata": {},
     "output_type": "execute_result"
    }
   ],
   "source": [
    "##View of top 5 observations##\n",
    "y_test.head()"
   ]
  },
  {
   "cell_type": "code",
   "execution_count": 69,
   "metadata": {},
   "outputs": [
    {
     "data": {
      "text/plain": [
       "1"
      ]
     },
     "execution_count": 69,
     "metadata": {},
     "output_type": "execute_result"
    }
   ],
   "source": [
    "## fID is 1, thus using accuracy as performance parameter##\n",
    "fID1 = 219021675 % 2\n",
    "fID1"
   ]
  },
  {
   "cell_type": "markdown",
   "metadata": {},
   "source": [
    "# Part 2: K-Nearest Neighbour Classification"
   ]
  },
  {
   "cell_type": "code",
   "execution_count": 59,
   "metadata": {},
   "outputs": [
    {
     "name": "stdout",
     "output_type": "stream",
     "text": [
      "Best K = 12 with accuracy = 91.21\n"
     ]
    },
    {
     "data": {
      "text/plain": [
       "Text(0, 0.5, 'Cross-validated accuracy')"
      ]
     },
     "execution_count": 59,
     "metadata": {},
     "output_type": "execute_result"
    },
    {
     "data": {
      "image/png": "[encoded data removed]",
      "text/plain": [
       "<Figure size 432x288 with 1 Axes>"
      ]
     },
     "metadata": {
      "needs_background": "light"
     },
     "output_type": "display_data"
    }
   ],
   "source": [
    "K_range = range(1,51)\n",
    "cv_acc = []\n",
    "\n",
    "for k in K_range:\n",
    "    # 1. run KNeighborsClassifier with k neighbours\n",
    "    knn = KNeighborsClassifier(n_neighbors=k, weights = 'distance')\n",
    "    # 2. obtain cross_val_score for KNeighborsClassifier with k neighbours\n",
    "    cv_score = model_selection.cross_val_score(knn, X_train, y_train.values.ravel(), cv=10, scoring='accuracy')\n",
    "    # 3. append mean of scores for k neighbors to k_scores list\n",
    "    cv_acc.append(cv_score.mean()*100)\n",
    "\n",
    "print ('Best K =',cv_acc.index(max(cv_acc))+1, 'with accuracy =',round(max(cv_acc),2))\n",
    "plt.plot(K_range, cv_acc)\n",
    "plt.xlabel('Value of K for KNN')\n",
    "plt.ylabel('Cross-validated accuracy')"
   ]
  },
  {
   "cell_type": "code",
   "execution_count": 60,
   "metadata": {},
   "outputs": [
    {
     "name": "stdout",
     "output_type": "stream",
     "text": [
      "KNN Training Accuracy: 1.0\n",
      "KNN Testing Accuracy: 0.9036308109942314\n",
      "KNN Confusion matrix:\n",
      " [[484   2  10   0   0   0]\n",
      " [ 37 425   9   0   0   0]\n",
      " [ 43  42 335   0   0   0]\n",
      " [  0   4   0 388  99   0]\n",
      " [  0   0   0  35 497   0]\n",
      " [  0   0   0   2   1 534]]\n",
      "KNN Multiclass F1 score and accuracy:\n",
      "               precision    recall  f1-score   support\n",
      "\n",
      "           1       0.86      0.98      0.91       496\n",
      "           2       0.90      0.90      0.90       471\n",
      "           3       0.95      0.80      0.87       420\n",
      "           4       0.91      0.79      0.85       491\n",
      "           5       0.83      0.93      0.88       532\n",
      "           6       1.00      0.99      1.00       537\n",
      "\n",
      "   micro avg       0.90      0.90      0.90      2947\n",
      "   macro avg       0.91      0.90      0.90      2947\n",
      "weighted avg       0.91      0.90      0.90      2947\n",
      "\n"
     ]
    }
   ],
   "source": [
    "##KNN with best K##\n",
    "bestK = int(cv_acc.index(max(cv_acc))+1)\n",
    "bestK\n",
    "\n",
    "knn_model = KNeighborsClassifier(n_neighbors= bestK, weights = 'distance')\n",
    "knn_model.fit(X_train, y_train.values.ravel())\n",
    "\n",
    "## Training accuracy with best K##\n",
    "knn_train_acc = metrics.accuracy_score(y_train, knn_model.predict(X_train))\n",
    "print (\"KNN Training Accuracy: {}\".format(knn_train_acc))\n",
    "\n",
    "#Fitting model and deriving accuracy on test data with best k##\n",
    "knn_test_acc = metrics.accuracy_score(y_test, knn_model.predict(X_test))\n",
    "print (\"KNN Testing Accuracy: {}\".format(knn_test_acc))\n",
    "\n",
    "knn_con_mat = metrics.confusion_matrix(y_test,knn_model.predict(X_test))\n",
    "print (\"KNN Confusion matrix:\\n\",knn_con_mat)\n",
    "\n",
    "knn_class_avg = metrics.classification_report(y_test,knn_model.predict(X_test))\n",
    "print (\"KNN Multiclass F1 score and accuracy:\\n\",knn_class_avg)"
   ]
  },
  {
   "cell_type": "markdown",
   "metadata": {},
   "source": [
    "# Part 3: Multiclass Logistic Regression with Elastic Net"
   ]
  },
  {
   "cell_type": "code",
   "execution_count": 70,
   "metadata": {},
   "outputs": [
    {
     "data": {
      "text/plain": [
       "1"
      ]
     },
     "execution_count": 70,
     "metadata": {},
     "output_type": "execute_result"
    }
   ],
   "source": [
    "## fID is 1, thus using f1-score as performance parameter##\n",
    "fID2 = 219021675 % 2\n",
    "fID2"
   ]
  },
  {
   "cell_type": "code",
   "execution_count": 61,
   "metadata": {},
   "outputs": [
    {
     "name": "stdout",
     "output_type": "stream",
     "text": [
      "Weighted_f1_score: 0.94\n",
      "Best Alpha: 0.001\n",
      "Best l1_ratio: 0.15\n"
     ]
    }
   ],
   "source": [
    "##Dictionary of parameters##\n",
    "params = {'alpha':[1e-4,3e-4,1e-3,3e-3, 1e-2,3e-2], 'l1_ratio':[0,0.15,0.5,0.7,1]}\n",
    "\n",
    "##Fitting model##\n",
    "log_reg = SGDClassifier(loss= 'log', penalty='elasticnet')\n",
    "grid = model_selection.GridSearchCV(log_reg, params, cv = 10, scoring = 'f1_weighted')\n",
    "grid.fit(X_train, y_train.values.ravel())\n",
    "\n",
    "#Accuracy measures##\n",
    "print('Weighted_f1_score:', round(grid.best_score_,3))\n",
    "Best_alpha =grid.best_params_['alpha']\n",
    "Best_l1_ratio = grid.best_params_['l1_ratio']\n",
    "print ('Best Alpha:',Best_alpha)\n",
    "print ('Best l1_ratio:',Best_l1_ratio)"
   ]
  },
  {
   "cell_type": "code",
   "execution_count": 131,
   "metadata": {},
   "outputs": [
    {
     "name": "stdout",
     "output_type": "stream",
     "text": [
      "Alpha values \n",
      "         0       1       2       3       4       5       6       7       8   \\\n",
      "0   0.0001  0.0001  0.0001  0.0001  0.0001  0.0003  0.0003  0.0003  0.0003   \n",
      "1   0.0001  0.0001  0.0001  0.0001  0.0001  0.0003  0.0003  0.0003  0.0003   \n",
      "2   0.0001  0.0001  0.0001  0.0001  0.0001  0.0003  0.0003  0.0003  0.0003   \n",
      "3   0.0001  0.0001  0.0001  0.0001  0.0001  0.0003  0.0003  0.0003  0.0003   \n",
      "4   0.0001  0.0001  0.0001  0.0001  0.0001  0.0003  0.0003  0.0003  0.0003   \n",
      "5   0.0001  0.0001  0.0001  0.0001  0.0001  0.0003  0.0003  0.0003  0.0003   \n",
      "6   0.0001  0.0001  0.0001  0.0001  0.0001  0.0003  0.0003  0.0003  0.0003   \n",
      "7   0.0001  0.0001  0.0001  0.0001  0.0001  0.0003  0.0003  0.0003  0.0003   \n",
      "8   0.0001  0.0001  0.0001  0.0001  0.0001  0.0003  0.0003  0.0003  0.0003   \n",
      "9   0.0001  0.0001  0.0001  0.0001  0.0001  0.0003  0.0003  0.0003  0.0003   \n",
      "10  0.0001  0.0001  0.0001  0.0001  0.0001  0.0003  0.0003  0.0003  0.0003   \n",
      "11  0.0001  0.0001  0.0001  0.0001  0.0001  0.0003  0.0003  0.0003  0.0003   \n",
      "12  0.0001  0.0001  0.0001  0.0001  0.0001  0.0003  0.0003  0.0003  0.0003   \n",
      "13  0.0001  0.0001  0.0001  0.0001  0.0001  0.0003  0.0003  0.0003  0.0003   \n",
      "14  0.0001  0.0001  0.0001  0.0001  0.0001  0.0003  0.0003  0.0003  0.0003   \n",
      "15  0.0001  0.0001  0.0001  0.0001  0.0001  0.0003  0.0003  0.0003  0.0003   \n",
      "16  0.0001  0.0001  0.0001  0.0001  0.0001  0.0003  0.0003  0.0003  0.0003   \n",
      "17  0.0001  0.0001  0.0001  0.0001  0.0001  0.0003  0.0003  0.0003  0.0003   \n",
      "18  0.0001  0.0001  0.0001  0.0001  0.0001  0.0003  0.0003  0.0003  0.0003   \n",
      "19  0.0001  0.0001  0.0001  0.0001  0.0001  0.0003  0.0003  0.0003  0.0003   \n",
      "20  0.0001  0.0001  0.0001  0.0001  0.0001  0.0003  0.0003  0.0003  0.0003   \n",
      "21  0.0001  0.0001  0.0001  0.0001  0.0001  0.0003  0.0003  0.0003  0.0003   \n",
      "22  0.0001  0.0001  0.0001  0.0001  0.0001  0.0003  0.0003  0.0003  0.0003   \n",
      "23  0.0001  0.0001  0.0001  0.0001  0.0001  0.0003  0.0003  0.0003  0.0003   \n",
      "24  0.0001  0.0001  0.0001  0.0001  0.0001  0.0003  0.0003  0.0003  0.0003   \n",
      "25  0.0001  0.0001  0.0001  0.0001  0.0001  0.0003  0.0003  0.0003  0.0003   \n",
      "26  0.0001  0.0001  0.0001  0.0001  0.0001  0.0003  0.0003  0.0003  0.0003   \n",
      "27  0.0001  0.0001  0.0001  0.0001  0.0001  0.0003  0.0003  0.0003  0.0003   \n",
      "28  0.0001  0.0001  0.0001  0.0001  0.0001  0.0003  0.0003  0.0003  0.0003   \n",
      "29  0.0001  0.0001  0.0001  0.0001  0.0001  0.0003  0.0003  0.0003  0.0003   \n",
      "\n",
      "        9   ...    20    21    22    23    24    25    26    27    28    29  \n",
      "0   0.0003  ...  0.01  0.01  0.01  0.01  0.01  0.03  0.03  0.03  0.03  0.03  \n",
      "1   0.0003  ...  0.01  0.01  0.01  0.01  0.01  0.03  0.03  0.03  0.03  0.03  \n",
      "2   0.0003  ...  0.01  0.01  0.01  0.01  0.01  0.03  0.03  0.03  0.03  0.03  \n",
      "3   0.0003  ...  0.01  0.01  0.01  0.01  0.01  0.03  0.03  0.03  0.03  0.03  \n",
      "4   0.0003  ...  0.01  0.01  0.01  0.01  0.01  0.03  0.03  0.03  0.03  0.03  \n",
      "5   0.0003  ...  0.01  0.01  0.01  0.01  0.01  0.03  0.03  0.03  0.03  0.03  \n",
      "6   0.0003  ...  0.01  0.01  0.01  0.01  0.01  0.03  0.03  0.03  0.03  0.03  \n",
      "7   0.0003  ...  0.01  0.01  0.01  0.01  0.01  0.03  0.03  0.03  0.03  0.03  \n",
      "8   0.0003  ...  0.01  0.01  0.01  0.01  0.01  0.03  0.03  0.03  0.03  0.03  \n",
      "9   0.0003  ...  0.01  0.01  0.01  0.01  0.01  0.03  0.03  0.03  0.03  0.03  \n",
      "10  0.0003  ...  0.01  0.01  0.01  0.01  0.01  0.03  0.03  0.03  0.03  0.03  \n",
      "11  0.0003  ...  0.01  0.01  0.01  0.01  0.01  0.03  0.03  0.03  0.03  0.03  \n",
      "12  0.0003  ...  0.01  0.01  0.01  0.01  0.01  0.03  0.03  0.03  0.03  0.03  \n",
      "13  0.0003  ...  0.01  0.01  0.01  0.01  0.01  0.03  0.03  0.03  0.03  0.03  \n",
      "14  0.0003  ...  0.01  0.01  0.01  0.01  0.01  0.03  0.03  0.03  0.03  0.03  \n",
      "15  0.0003  ...  0.01  0.01  0.01  0.01  0.01  0.03  0.03  0.03  0.03  0.03  \n",
      "16  0.0003  ...  0.01  0.01  0.01  0.01  0.01  0.03  0.03  0.03  0.03  0.03  \n",
      "17  0.0003  ...  0.01  0.01  0.01  0.01  0.01  0.03  0.03  0.03  0.03  0.03  \n",
      "18  0.0003  ...  0.01  0.01  0.01  0.01  0.01  0.03  0.03  0.03  0.03  0.03  \n",
      "19  0.0003  ...  0.01  0.01  0.01  0.01  0.01  0.03  0.03  0.03  0.03  0.03  \n",
      "20  0.0003  ...  0.01  0.01  0.01  0.01  0.01  0.03  0.03  0.03  0.03  0.03  \n",
      "21  0.0003  ...  0.01  0.01  0.01  0.01  0.01  0.03  0.03  0.03  0.03  0.03  \n",
      "22  0.0003  ...  0.01  0.01  0.01  0.01  0.01  0.03  0.03  0.03  0.03  0.03  \n",
      "23  0.0003  ...  0.01  0.01  0.01  0.01  0.01  0.03  0.03  0.03  0.03  0.03  \n",
      "24  0.0003  ...  0.01  0.01  0.01  0.01  0.01  0.03  0.03  0.03  0.03  0.03  \n",
      "25  0.0003  ...  0.01  0.01  0.01  0.01  0.01  0.03  0.03  0.03  0.03  0.03  \n",
      "26  0.0003  ...  0.01  0.01  0.01  0.01  0.01  0.03  0.03  0.03  0.03  0.03  \n",
      "27  0.0003  ...  0.01  0.01  0.01  0.01  0.01  0.03  0.03  0.03  0.03  0.03  \n",
      "28  0.0003  ...  0.01  0.01  0.01  0.01  0.01  0.03  0.03  0.03  0.03  0.03  \n",
      "29  0.0003  ...  0.01  0.01  0.01  0.01  0.01  0.03  0.03  0.03  0.03  0.03  \n",
      "\n",
      "[30 rows x 30 columns]\n",
      "\n",
      "L1_ratio values \n",
      "       0     1     2     3     4     5     6     7     8     9   ...    20  \\\n",
      "0      0     0     0     0     0     0     0     0     0     0  ...     0   \n",
      "1   0.15  0.15  0.15  0.15  0.15  0.15  0.15  0.15  0.15  0.15  ...  0.15   \n",
      "2    0.5   0.5   0.5   0.5   0.5   0.5   0.5   0.5   0.5   0.5  ...   0.5   \n",
      "3    0.7   0.7   0.7   0.7   0.7   0.7   0.7   0.7   0.7   0.7  ...   0.7   \n",
      "4      1     1     1     1     1     1     1     1     1     1  ...     1   \n",
      "5      0     0     0     0     0     0     0     0     0     0  ...     0   \n",
      "6   0.15  0.15  0.15  0.15  0.15  0.15  0.15  0.15  0.15  0.15  ...  0.15   \n",
      "7    0.5   0.5   0.5   0.5   0.5   0.5   0.5   0.5   0.5   0.5  ...   0.5   \n",
      "8    0.7   0.7   0.7   0.7   0.7   0.7   0.7   0.7   0.7   0.7  ...   0.7   \n",
      "9      1     1     1     1     1     1     1     1     1     1  ...     1   \n",
      "10     0     0     0     0     0     0     0     0     0     0  ...     0   \n",
      "11  0.15  0.15  0.15  0.15  0.15  0.15  0.15  0.15  0.15  0.15  ...  0.15   \n",
      "12   0.5   0.5   0.5   0.5   0.5   0.5   0.5   0.5   0.5   0.5  ...   0.5   \n",
      "13   0.7   0.7   0.7   0.7   0.7   0.7   0.7   0.7   0.7   0.7  ...   0.7   \n",
      "14     1     1     1     1     1     1     1     1     1     1  ...     1   \n",
      "15     0     0     0     0     0     0     0     0     0     0  ...     0   \n",
      "16  0.15  0.15  0.15  0.15  0.15  0.15  0.15  0.15  0.15  0.15  ...  0.15   \n",
      "17   0.5   0.5   0.5   0.5   0.5   0.5   0.5   0.5   0.5   0.5  ...   0.5   \n",
      "18   0.7   0.7   0.7   0.7   0.7   0.7   0.7   0.7   0.7   0.7  ...   0.7   \n",
      "19     1     1     1     1     1     1     1     1     1     1  ...     1   \n",
      "20     0     0     0     0     0     0     0     0     0     0  ...     0   \n",
      "21  0.15  0.15  0.15  0.15  0.15  0.15  0.15  0.15  0.15  0.15  ...  0.15   \n",
      "22   0.5   0.5   0.5   0.5   0.5   0.5   0.5   0.5   0.5   0.5  ...   0.5   \n",
      "23   0.7   0.7   0.7   0.7   0.7   0.7   0.7   0.7   0.7   0.7  ...   0.7   \n",
      "24     1     1     1     1     1     1     1     1     1     1  ...     1   \n",
      "25     0     0     0     0     0     0     0     0     0     0  ...     0   \n",
      "26  0.15  0.15  0.15  0.15  0.15  0.15  0.15  0.15  0.15  0.15  ...  0.15   \n",
      "27   0.5   0.5   0.5   0.5   0.5   0.5   0.5   0.5   0.5   0.5  ...   0.5   \n",
      "28   0.7   0.7   0.7   0.7   0.7   0.7   0.7   0.7   0.7   0.7  ...   0.7   \n",
      "29     1     1     1     1     1     1     1     1     1     1  ...     1   \n",
      "\n",
      "      21    22    23    24    25    26    27    28    29  \n",
      "0      0     0     0     0     0     0     0     0     0  \n",
      "1   0.15  0.15  0.15  0.15  0.15  0.15  0.15  0.15  0.15  \n",
      "2    0.5   0.5   0.5   0.5   0.5   0.5   0.5   0.5   0.5  \n",
      "3    0.7   0.7   0.7   0.7   0.7   0.7   0.7   0.7   0.7  \n",
      "4      1     1     1     1     1     1     1     1     1  \n",
      "5      0     0     0     0     0     0     0     0     0  \n",
      "6   0.15  0.15  0.15  0.15  0.15  0.15  0.15  0.15  0.15  \n",
      "7    0.5   0.5   0.5   0.5   0.5   0.5   0.5   0.5   0.5  \n",
      "8    0.7   0.7   0.7   0.7   0.7   0.7   0.7   0.7   0.7  \n",
      "9      1     1     1     1     1     1     1     1     1  \n",
      "10     0     0     0     0     0     0     0     0     0  \n",
      "11  0.15  0.15  0.15  0.15  0.15  0.15  0.15  0.15  0.15  \n",
      "12   0.5   0.5   0.5   0.5   0.5   0.5   0.5   0.5   0.5  \n",
      "13   0.7   0.7   0.7   0.7   0.7   0.7   0.7   0.7   0.7  \n",
      "14     1     1     1     1     1     1     1     1     1  \n",
      "15     0     0     0     0     0     0     0     0     0  \n",
      "16  0.15  0.15  0.15  0.15  0.15  0.15  0.15  0.15  0.15  \n",
      "17   0.5   0.5   0.5   0.5   0.5   0.5   0.5   0.5   0.5  \n",
      "18   0.7   0.7   0.7   0.7   0.7   0.7   0.7   0.7   0.7  \n",
      "19     1     1     1     1     1     1     1     1     1  \n",
      "20     0     0     0     0     0     0     0     0     0  \n",
      "21  0.15  0.15  0.15  0.15  0.15  0.15  0.15  0.15  0.15  \n",
      "22   0.5   0.5   0.5   0.5   0.5   0.5   0.5   0.5   0.5  \n",
      "23   0.7   0.7   0.7   0.7   0.7   0.7   0.7   0.7   0.7  \n",
      "24     1     1     1     1     1     1     1     1     1  \n",
      "25     0     0     0     0     0     0     0     0     0  \n",
      "26  0.15  0.15  0.15  0.15  0.15  0.15  0.15  0.15  0.15  \n",
      "27   0.5   0.5   0.5   0.5   0.5   0.5   0.5   0.5   0.5  \n",
      "28   0.7   0.7   0.7   0.7   0.7   0.7   0.7   0.7   0.7  \n",
      "29     1     1     1     1     1     1     1     1     1  \n",
      "\n",
      "[30 rows x 30 columns]\n",
      "\n",
      "F1 scores \n",
      "            0\n",
      "0   0.900400\n",
      "1   0.922625\n",
      "2   0.931864\n",
      "3   0.921894\n",
      "4   0.926835\n",
      "5   0.906444\n",
      "6   0.927262\n",
      "7   0.925281\n",
      "8   0.930618\n",
      "9   0.919461\n",
      "10  0.917169\n",
      "11  0.940328\n",
      "12  0.940118\n",
      "13  0.933554\n",
      "14  0.922553\n",
      "15  0.916946\n",
      "16  0.930714\n",
      "17  0.925655\n",
      "18  0.930274\n",
      "19  0.915960\n",
      "20  0.906486\n",
      "21  0.912221\n",
      "22  0.898327\n",
      "23  0.894310\n",
      "24  0.894299\n",
      "25  0.895598\n",
      "26  0.884828\n",
      "27  0.851079\n",
      "28  0.823084\n",
      "29  0.785424\n"
     ]
    },
    {
     "data": {
      "image/png": "[encoded data removed]",
      "text/plain": [
       "<Figure size 432x288 with 1 Axes>"
      ]
     },
     "metadata": {
      "needs_background": "light"
     },
     "output_type": "display_data"
    }
   ],
   "source": [
    "##Surface plot of F1 score w.r.t. alpha and L1-ratio\n",
    "\n",
    "F1_scores = pd.DataFrame.from_dict(grid.cv_results_['mean_test_score'])\n",
    "alpha_new = pd.DataFrame.from_dict(grid.cv_results_['param_alpha'])\n",
    "l1_ratio_new = pd.DataFrame.from_dict(grid.cv_results_['param_l1_ratio'])\n",
    "\n",
    "fig = plt.figure()\n",
    "ax = fig.gca(projection='3d')\n",
    "X,Y = np.meshgrid(alpha_new,l1_ratio_new)\n",
    "Z = F1_scores\n",
    "print(f\"Alpha values \\n {pd.DataFrame(X)}\")\n",
    "print(f\"\\nL1_ratio values \\n {pd.DataFrame(Y)}\")\n",
    "print(f\"\\nF1 scores \\n {pd.DataFrame(Z)}\")\n",
    "ax.plot_surface(X, Y, Z, rstride=1, cstride=1,cmap='viridis',edgecolor='none')\n",
    "ax.set_xlabel(\"alpha\")\n",
    "ax.set_ylabel(\"l1_ratio\")\n",
    "ax.set_zlabel(\"F1 score\")\n",
    "plt.show()"
   ]
  },
  {
   "cell_type": "markdown",
   "metadata": {},
   "source": [
    "# SGDC Graph interpretation\n",
    "There is negative relationship between hyperparameters (alpha and l1 ratio) and F1 score. It seems, alpha affects F1 score more than l1 ratio. As alpha increase F1 score decreases, F1 score increases till 0.15 l1 ratio and drops beyond that. Thus, alpha is important variable and should be less than 0.001 and 1 ratio should be less than 0.15."
   ]
  },
  {
   "cell_type": "code",
   "execution_count": 63,
   "metadata": {},
   "outputs": [
    {
     "name": "stdout",
     "output_type": "stream",
     "text": [
      "SGD Training Accuracy: 0.9816376496191512\n",
      "SGD Testing Accuracy: 0.9569053274516457\n",
      "SGD Confusion matrix:\n",
      " [[491   0   5   0   0   0]\n",
      " [ 21 444   6   0   0   0]\n",
      " [  7  12 401   0   0   0]\n",
      " [  0   3   0 436  52   0]\n",
      " [  2   0   0  19 511   0]\n",
      " [  0   0   0   0   0 537]]\n",
      "SGD Multiclass F1 score and accuracy:\n",
      "               precision    recall  f1-score   support\n",
      "\n",
      "           1       0.94      0.99      0.97       496\n",
      "           2       0.97      0.94      0.95       471\n",
      "           3       0.97      0.95      0.96       420\n",
      "           4       0.96      0.89      0.92       491\n",
      "           5       0.91      0.96      0.93       532\n",
      "           6       1.00      1.00      1.00       537\n",
      "\n",
      "   micro avg       0.96      0.96      0.96      2947\n",
      "   macro avg       0.96      0.96      0.96      2947\n",
      "weighted avg       0.96      0.96      0.96      2947\n",
      "\n"
     ]
    }
   ],
   "source": [
    "##Model on test dataset with best alpha and L1-ratio##\n",
    "SGD_model = SGDClassifier(loss='log', penalty='elasticnet', alpha=Best_alpha, l1_ratio=Best_l1_ratio, max_iter=1000) \n",
    "SGD_model.fit(X_train, y_train.values.ravel())\n",
    "\n",
    "#Training accuracy\n",
    "SGD_acc_train= metrics.accuracy_score(y_train, SGD_model.predict(X_train))\n",
    "print (\"SGD Training Accuracy: {}\".format(SGD_acc_train))\n",
    "\n",
    "#Fitting model on test data##\n",
    "SGD_test_acc = metrics.accuracy_score(y_test, SGD_model.predict(X_test))\n",
    "print (\"SGD Testing Accuracy: {}\".format(SGD_test_acc))\n",
    "\n",
    "SGD_con_mat = metrics.confusion_matrix(y_test,SGD_model.predict(X_test))\n",
    "print (\"SGD Confusion matrix:\\n\",SGD_con_mat)\n",
    "\n",
    "SGD_class_avg = metrics.classification_report(y_test,SGD_model.predict(X_test))\n",
    "print (\"SGD Multiclass F1 score and accuracy:\\n\",SGD_class_avg)\n"
   ]
  },
  {
   "cell_type": "markdown",
   "metadata": {},
   "source": [
    "# Part 4: Support Vector Machine (RBF Kernel)"
   ]
  },
  {
   "cell_type": "code",
   "execution_count": 71,
   "metadata": {},
   "outputs": [
    {
     "data": {
      "text/plain": [
       "0"
      ]
     },
     "execution_count": 71,
     "metadata": {},
     "output_type": "execute_result"
    }
   ],
   "source": [
    "## fID is 0, thus using f1-score as performance parameter##\n",
    "fID3 = 219021675 % 3\n",
    "fID3"
   ]
  },
  {
   "cell_type": "code",
   "execution_count": 64,
   "metadata": {},
   "outputs": [
    {
     "name": "stdout",
     "output_type": "stream",
     "text": [
      "Weighted_f1_score: 0.951\n",
      "Best Gamma: 0.001\n",
      "Best Cost penalty: 1000\n"
     ]
    }
   ],
   "source": [
    "##Dictionary of parameters##\n",
    "SVM_params = {'gamma':[1e-3,1e-4], 'C':[1,10,100,1000]}\n",
    "\n",
    "##Fitting model##\n",
    "SVM_model = svm.SVC(kernel = 'rbf')\n",
    "SVM_grid = model_selection.GridSearchCV(SVM_model, SVM_params, cv = 10, scoring = 'f1_weighted')\n",
    "SVM_grid.fit(X_train, y_train.values.ravel())\n",
    "\n",
    "#Accuracy measures##\n",
    "print('Weighted_f1_score:', round(SVM_grid.best_score_,3))\n",
    "Best_gamma =SVM_grid.best_params_['gamma']\n",
    "Best_C = SVM_grid.best_params_['C']\n",
    "print ('Best Gamma:',Best_gamma)\n",
    "print ('Best Cost penalty:',Best_C)"
   ]
  },
  {
   "cell_type": "code",
   "execution_count": 136,
   "metadata": {},
   "outputs": [
    {
     "name": "stdout",
     "output_type": "stream",
     "text": [
      "Gamma \n",
      "        0       1      2       3      4       5      6       7\n",
      "0  0.001  0.0001  0.001  0.0001  0.001  0.0001  0.001  0.0001\n",
      "1  0.001  0.0001  0.001  0.0001  0.001  0.0001  0.001  0.0001\n",
      "2  0.001  0.0001  0.001  0.0001  0.001  0.0001  0.001  0.0001\n",
      "3  0.001  0.0001  0.001  0.0001  0.001  0.0001  0.001  0.0001\n",
      "4  0.001  0.0001  0.001  0.0001  0.001  0.0001  0.001  0.0001\n",
      "5  0.001  0.0001  0.001  0.0001  0.001  0.0001  0.001  0.0001\n",
      "6  0.001  0.0001  0.001  0.0001  0.001  0.0001  0.001  0.0001\n",
      "7  0.001  0.0001  0.001  0.0001  0.001  0.0001  0.001  0.0001\n",
      "\n",
      "Cost \n",
      "       0     1     2     3     4     5     6     7\n",
      "0     1     1     1     1     1     1     1     1\n",
      "1     1     1     1     1     1     1     1     1\n",
      "2    10    10    10    10    10    10    10    10\n",
      "3    10    10    10    10    10    10    10    10\n",
      "4   100   100   100   100   100   100   100   100\n",
      "5   100   100   100   100   100   100   100   100\n",
      "6  1000  1000  1000  1000  1000  1000  1000  1000\n",
      "7  1000  1000  1000  1000  1000  1000  1000  1000\n",
      "\n",
      "F1 scores \n",
      "           0\n",
      "0  0.905838\n",
      "1  0.790215\n",
      "2  0.941828\n",
      "3  0.906649\n",
      "4  0.949790\n",
      "5  0.941491\n",
      "6  0.950933\n",
      "7  0.947130\n"
     ]
    },
    {
     "data": {
      "image/png": "[encoded data removed]",
      "text/plain": [
       "<Figure size 432x288 with 1 Axes>"
      ]
     },
     "metadata": {
      "needs_background": "light"
     },
     "output_type": "display_data"
    }
   ],
   "source": [
    "\n",
    "##Surface plot of F1 score w.r.t. gamma and C\n",
    "\n",
    "SVM_f1_score = pd.DataFrame.from_dict(SVM_grid.cv_results_['mean_test_score'])\n",
    "gamma_new = pd.DataFrame.from_dict(SVM_grid.cv_results_['param_gamma'])\n",
    "C_new = pd.DataFrame.from_dict(SVM_grid.cv_results_['param_C'])\n",
    "\n",
    "fig = plt.figure()\n",
    "ax = fig.gca(projection='3d')\n",
    "X,Y = np.meshgrid(gamma_new,C_new)\n",
    "Z = SVM_f1_score\n",
    "print(f\"Gamma \\n {pd.DataFrame(X)}\")\n",
    "print(f\"\\nCost \\n {pd.DataFrame(Y)}\")\n",
    "print(f\"\\nF1 scores \\n {pd.DataFrame(Z)}\")\n",
    "ax.plot_surface(X, Y, Z, rstride=1, cstride=1,cmap='viridis',edgecolor='none')\n",
    "ax.set_xlabel(\"gamma\")\n",
    "ax.set_ylabel(\"C\")\n",
    "ax.set_zlabel(\"f1_score\")\n",
    "plt.show()"
   ]
  },
  {
   "cell_type": "markdown",
   "metadata": {},
   "source": [
    "# SVM graph interpretation\n",
    "Both the hyperparameters equally affect F1 score. Both the hyperparameters has positive relationship with F1 score. As cost and gamma increases, F1 score increases, thus best F1 score is when C is max (0.001) and gamma is max (1000)."
   ]
  },
  {
   "cell_type": "code",
   "execution_count": 66,
   "metadata": {},
   "outputs": [
    {
     "name": "stdout",
     "output_type": "stream",
     "text": [
      "SVM Training Accuracy: 0.9971436343852013\n",
      "SVM Testing Accuracy: 0.9647098744485918\n",
      "SVM Confusion matrix:\n",
      " [[491   0   5   0   0   0]\n",
      " [ 17 453   1   0   0   0]\n",
      " [  3  10 407   0   0   0]\n",
      " [  0   2   0 435  54   0]\n",
      " [  0   0   0  12 520   0]\n",
      " [  0   0   0   0   0 537]]\n",
      "SVM Multiclass F1 score and accuracy:\n",
      "               precision    recall  f1-score   support\n",
      "\n",
      "           1       0.96      0.99      0.98       496\n",
      "           2       0.97      0.96      0.97       471\n",
      "           3       0.99      0.97      0.98       420\n",
      "           4       0.97      0.89      0.93       491\n",
      "           5       0.91      0.98      0.94       532\n",
      "           6       1.00      1.00      1.00       537\n",
      "\n",
      "   micro avg       0.96      0.96      0.96      2947\n",
      "   macro avg       0.97      0.96      0.96      2947\n",
      "weighted avg       0.97      0.96      0.96      2947\n",
      "\n"
     ]
    }
   ],
   "source": [
    "##Model on test dataset with best gamma and C##\n",
    "SVM_model1 = svm.SVC(C = Best_C, kernel = 'rbf', gamma = Best_gamma)\n",
    "SVM_model1.fit(X_train, y_train.values.ravel())\n",
    "\n",
    "#Training accuracy\n",
    "SVM_acc_train= metrics.accuracy_score(y_train, SVM_model1.predict(X_train))\n",
    "print (\"SVM Training Accuracy: {}\".format(SVM_acc_train))\n",
    "\n",
    "#Fitting model on test data##\n",
    "SVM_test_acc = metrics.accuracy_score(y_test, SVM_model1.predict(X_test))\n",
    "print (\"SVM Testing Accuracy: {}\".format(SVM_test_acc))\n",
    "\n",
    "SVM_con_mat = metrics.confusion_matrix(y_test,SVM_model1.predict(X_test))\n",
    "print (\"SVM Confusion matrix:\\n\",SVM_con_mat)\n",
    "\n",
    "SVM_class_avg = metrics.classification_report(y_test,SVM_model1.predict(X_test))\n",
    "print (\"SVM Multiclass F1 score and accuracy:\\n\",SVM_class_avg)"
   ]
  },
  {
   "cell_type": "markdown",
   "metadata": {},
   "source": [
    "# Part 5: Random Forest"
   ]
  },
  {
   "cell_type": "code",
   "execution_count": 72,
   "metadata": {},
   "outputs": [
    {
     "data": {
      "text/plain": [
       "3"
      ]
     },
     "execution_count": 72,
     "metadata": {},
     "output_type": "execute_result"
    }
   ],
   "source": [
    "## fID is 0, thus using recall as performance parameter##\n",
    "fID4 = 219021675 % 4\n",
    "fID4"
   ]
  },
  {
   "cell_type": "code",
   "execution_count": 121,
   "metadata": {},
   "outputs": [],
   "source": [
    "##Dictionary of parameters##\n",
    "RFC_params = {'n_estimators':[200,500,700], 'max_depth':[300,500,600]}\n",
    "score = ['f1_weighted', 'recall_weighted']\n",
    "##Fitting model##\n",
    "RFC_model = RandomForestClassifier(random_state = 50)"
   ]
  },
  {
   "cell_type": "code",
   "execution_count": 122,
   "metadata": {},
   "outputs": [
    {
     "data": {
      "text/plain": [
       "GridSearchCV(cv=10, error_score='raise-deprecating',\n",
       "       estimator=RandomForestClassifier(bootstrap=True, class_weight=None, criterion='gini',\n",
       "            max_depth=None, max_features='auto', max_leaf_nodes=None,\n",
       "            min_impurity_decrease=0.0, min_impurity_split=None,\n",
       "            min_samples_leaf=1, min_samples_split=2,\n",
       "            min_weight_fraction_leaf=0.0, n_estimators='warn', n_jobs=None,\n",
       "            oob_score=False, random_state=50, verbose=0, warm_start=False),\n",
       "       fit_params=None, iid='warn', n_jobs=None,\n",
       "       param_grid={'n_estimators': [200, 500, 700], 'max_depth': [300, 500, 600]},\n",
       "       pre_dispatch='2*n_jobs', refit='recall_weighted',\n",
       "       return_train_score='warn',\n",
       "       scoring=['f1_weighted', 'recall_weighted'], verbose=0)"
      ]
     },
     "execution_count": 122,
     "metadata": {},
     "output_type": "execute_result"
    }
   ],
   "source": [
    "##Fitting model\n",
    "RFC_grid= model_selection.GridSearchCV(RFC_model, RFC_params, cv = 10, scoring = score, refit = 'recall_weighted')\n",
    "RFC_grid.fit(X_train, y_train.values.ravel())  "
   ]
  },
  {
   "cell_type": "code",
   "execution_count": 123,
   "metadata": {},
   "outputs": [
    {
     "name": "stdout",
     "output_type": "stream",
     "text": [
      "Number of Trees \n",
      "      0    1    2    3    4    5    6    7    8\n",
      "0  200  500  700  200  500  700  200  500  700\n",
      "1  200  500  700  200  500  700  200  500  700\n",
      "2  200  500  700  200  500  700  200  500  700\n",
      "3  200  500  700  200  500  700  200  500  700\n",
      "4  200  500  700  200  500  700  200  500  700\n",
      "5  200  500  700  200  500  700  200  500  700\n",
      "6  200  500  700  200  500  700  200  500  700\n",
      "7  200  500  700  200  500  700  200  500  700\n",
      "8  200  500  700  200  500  700  200  500  700\n",
      "\n",
      "Tree Depth \n",
      "      0    1    2    3    4    5    6    7    8\n",
      "0  300  300  300  300  300  300  300  300  300\n",
      "1  300  300  300  300  300  300  300  300  300\n",
      "2  300  300  300  300  300  300  300  300  300\n",
      "3  500  500  500  500  500  500  500  500  500\n",
      "4  500  500  500  500  500  500  500  500  500\n",
      "5  500  500  500  500  500  500  500  500  500\n",
      "6  600  600  600  600  600  600  600  600  600\n",
      "7  600  600  600  600  600  600  600  600  600\n",
      "8  600  600  600  600  600  600  600  600  600\n",
      "\n",
      "F1 scores \n",
      "        0\n",
      "0  92.99\n",
      "1  93.09\n",
      "2  93.20\n",
      "3  92.99\n",
      "4  93.09\n",
      "5  93.20\n",
      "6  92.99\n",
      "7  93.09\n",
      "8  93.20\n"
     ]
    },
    {
     "data": {
      "image/png": "[encoded data removed]",
      "text/plain": [
       "<Figure size 432x288 with 1 Axes>"
      ]
     },
     "metadata": {
      "needs_background": "light"
     },
     "output_type": "display_data"
    }
   ],
   "source": [
    "##Plotting F1 score w.r.t. number of trees and depth of the tree\n",
    "RFC_f1_score = pd.DataFrame.from_dict(RFC_grid.cv_results_['mean_test_f1_weighted'])\n",
    "tree_num_new = pd.DataFrame.from_dict(RFC_grid.cv_results_['param_n_estimators'])\n",
    "tree_depth_new = pd.DataFrame.from_dict(RFC_grid.cv_results_['param_max_depth'])\n",
    "\n",
    "fig = plt.figure()\n",
    "ax = fig.gca(projection='3d')\n",
    "X,Y = np.meshgrid(tree_num_new,tree_depth_new)\n",
    "Z = round(RFC_f1_score*100,2)\n",
    "print(f\"Number of Trees \\n {pd.DataFrame(X)}\")\n",
    "print(f\"\\nTree Depth \\n {pd.DataFrame(Y)}\")\n",
    "print(f\"\\nF1 scores \\n {pd.DataFrame(Z)}\")\n",
    "ax.plot_surface(X, Y, Z, rstride=1, cstride=1,cmap='viridis',edgecolor='none')\n",
    "ax.set_xlabel(\"tree numbers\")\n",
    "ax.set_ylabel(\"tree depth\")\n",
    "ax.set_zlabel(\"f1_score\")\n",
    "plt.show()"
   ]
  },
  {
   "cell_type": "markdown",
   "metadata": {},
   "source": [
    "# RFC Graph interpretation\n",
    "Number of trees has more effect on F1 score. At 200 number of trees, F1 score reduces irrespective of increment in tree depth. As number of trees increases, F1 score increases at each level of tree depth, i.e. if tree depth 300, then F1 score increases as number of trees increases from 200 to 700."
   ]
  },
  {
   "cell_type": "code",
   "execution_count": 124,
   "metadata": {},
   "outputs": [
    {
     "name": "stdout",
     "output_type": "stream",
     "text": [
      "Best Recall Score: 0.933\n",
      "Optimal trees: 700\n",
      "Optimal tree depth: 300\n"
     ]
    }
   ],
   "source": [
    "#Accuracy measures##\n",
    "print('Best Recall Score:', round(RFC_grid.best_score_,3))\n",
    "Best_tree_num =RFC_grid.best_params_['n_estimators']\n",
    "Best_tree_dep = RFC_grid.best_params_['max_depth']\n",
    "print ('Optimal trees:',Best_tree_num)\n",
    "print ('Optimal tree depth:',Best_tree_dep)"
   ]
  },
  {
   "cell_type": "code",
   "execution_count": 125,
   "metadata": {},
   "outputs": [
    {
     "name": "stdout",
     "output_type": "stream",
     "text": [
      "RFC Training Accuracy: 1.0\n",
      "RFC Testing Accuracy: 0.9260264675941635\n",
      "RFC Confusion matrix:\n",
      " [[481   5  10   0   0   0]\n",
      " [ 30 435   6   0   0   0]\n",
      " [ 20  46 354   0   0   0]\n",
      " [  0   0   0 438  53   0]\n",
      " [  0   0   0  48 484   0]\n",
      " [  0   0   0   0   0 537]]\n",
      "RFC Multiclass F1 score and accuracy:\n",
      "               precision    recall  f1-score   support\n",
      "\n",
      "           1       0.91      0.97      0.94       496\n",
      "           2       0.90      0.92      0.91       471\n",
      "           3       0.96      0.84      0.90       420\n",
      "           4       0.90      0.89      0.90       491\n",
      "           5       0.90      0.91      0.91       532\n",
      "           6       1.00      1.00      1.00       537\n",
      "\n",
      "   micro avg       0.93      0.93      0.93      2947\n",
      "   macro avg       0.93      0.92      0.92      2947\n",
      "weighted avg       0.93      0.93      0.93      2947\n",
      "\n"
     ]
    }
   ],
   "source": [
    "##Model on test dataset with best trees and tree depth\n",
    "RFC_model1 = RandomForestClassifier(n_estimators = Best_tree_num, max_depth = Best_tree_dep, random_state = 60 )\n",
    "RFC_model1.fit(X_train, y_train.values.ravel())\n",
    "\n",
    "#Training accuracy\n",
    "RFC_acc_train= metrics.accuracy_score(y_train, RFC_model1.predict(X_train))\n",
    "print (\"RFC Training Accuracy: {}\".format(RFC_acc_train))\n",
    "\n",
    "#Fitting model on test data##\n",
    "RFC_test_acc = metrics.accuracy_score(y_test, RFC_model1.predict(X_test))\n",
    "print (\"RFC Testing Accuracy: {}\".format(RFC_test_acc))\n",
    "\n",
    "RFC_con_mat = metrics.confusion_matrix(y_test,RFC_model1.predict(X_test))\n",
    "print (\"RFC Confusion matrix:\\n\",RFC_con_mat)\n",
    "\n",
    "RFC_class_avg = metrics.classification_report(y_test,RFC_model1.predict(X_test))\n",
    "print (\"RFC Multiclass F1 score and accuracy:\\n\",RFC_class_avg)"
   ]
  },
  {
   "cell_type": "markdown",
   "metadata": {},
   "source": [
    "# Part 6: Discussion\n",
    "1)\tSince target labels are not highly unbalanced, I have used accuracy (hit ratio) as the parameter across training and test dataset to compare different classifiers. As mentioned in the research paper, SVM is the best classifier with hit ratio of 96.47% and it is observed that sitting has lowest recall of 89% on test dataset. SGDC is next best classifier with hit ratio of 95.76% and even it has lowest recall of 89% for sitting activity on test dataset. KNN has lowest hit ratio of 90.36%. RFC has accuracy of 92.60%. SVM has three hyperparameters to fine tune the model, gamma, cost, and kernel which takes care non-linearity robustly. Thus, it has performed better than other classifiers.\n",
    "\n",
    "2)\t KNN and RFC has 100% accuracy on Training set but performed poor on Test set. Thus, we can say that KNN and RFC suffered from overfitting issue. KNN performance was worst as it has only one hyperparameter “K” to fine tune the model, whereas other classifiers have at least two hyperparameters (3 in case of SVM) to fine tune the model.\n",
    "\n",
    "3)\tTo improve KNN, I think we should add one more hyperparameter. I used “distance” as weights. Maybe we can try another weight as algorithm accepts user-defined weights. For, we can use post-pruning and then compare the performance.\n"
   ]
  }
 ],
 "metadata": {
  "kernelspec": {
   "display_name": "Python 3",
   "language": "python",
   "name": "python3"
  },
  "language_info": {
   "codemirror_mode": {
    "name": "ipython",
    "version": 3
   },
   "file_extension": ".py",
   "mimetype": "text/x-python",
   "name": "python",
   "nbconvert_exporter": "python",
   "pygments_lexer": "ipython3",
   "version": "3.7.3"
  }
 },
 "nbformat": 4,
 "nbformat_minor": 2
}
